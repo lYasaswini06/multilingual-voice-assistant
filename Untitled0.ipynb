{
  "nbformat": 4,
  "nbformat_minor": 0,
  "metadata": {
    "colab": {
      "provenance": []
    },
    "kernelspec": {
      "name": "python3",
      "display_name": "Python 3"
    },
    "language_info": {
      "name": "python"
    }
  },
  "cells": [
    {
      "cell_type": "code",
      "execution_count": 1,
      "metadata": {
        "colab": {
          "base_uri": "https://localhost:8080/"
        },
        "id": "HprJXLhQhCqb",
        "outputId": "d7a4f053-098a-43b2-b96b-59789eff652d"
      },
      "outputs": [
        {
          "output_type": "stream",
          "name": "stdout",
          "text": [
            "Collecting SpeechRecognition\n",
            "  Downloading speechrecognition-3.14.3-py3-none-any.whl.metadata (30 kB)\n",
            "Requirement already satisfied: transformers in /usr/local/lib/python3.11/dist-packages (4.51.3)\n",
            "Collecting gtts\n",
            "  Downloading gTTS-2.5.4-py3-none-any.whl.metadata (4.1 kB)\n",
            "Collecting pydub\n",
            "  Downloading pydub-0.25.1-py2.py3-none-any.whl.metadata (1.4 kB)\n",
            "Requirement already satisfied: typing-extensions in /usr/local/lib/python3.11/dist-packages (from SpeechRecognition) (4.13.2)\n",
            "Requirement already satisfied: filelock in /usr/local/lib/python3.11/dist-packages (from transformers) (3.18.0)\n",
            "Requirement already satisfied: huggingface-hub<1.0,>=0.30.0 in /usr/local/lib/python3.11/dist-packages (from transformers) (0.31.2)\n",
            "Requirement already satisfied: numpy>=1.17 in /usr/local/lib/python3.11/dist-packages (from transformers) (2.0.2)\n",
            "Requirement already satisfied: packaging>=20.0 in /usr/local/lib/python3.11/dist-packages (from transformers) (24.2)\n",
            "Requirement already satisfied: pyyaml>=5.1 in /usr/local/lib/python3.11/dist-packages (from transformers) (6.0.2)\n",
            "Requirement already satisfied: regex!=2019.12.17 in /usr/local/lib/python3.11/dist-packages (from transformers) (2024.11.6)\n",
            "Requirement already satisfied: requests in /usr/local/lib/python3.11/dist-packages (from transformers) (2.32.3)\n",
            "Requirement already satisfied: tokenizers<0.22,>=0.21 in /usr/local/lib/python3.11/dist-packages (from transformers) (0.21.1)\n",
            "Requirement already satisfied: safetensors>=0.4.3 in /usr/local/lib/python3.11/dist-packages (from transformers) (0.5.3)\n",
            "Requirement already satisfied: tqdm>=4.27 in /usr/local/lib/python3.11/dist-packages (from transformers) (4.67.1)\n",
            "Collecting click<8.2,>=7.1 (from gtts)\n",
            "  Downloading click-8.1.8-py3-none-any.whl.metadata (2.3 kB)\n",
            "Requirement already satisfied: fsspec>=2023.5.0 in /usr/local/lib/python3.11/dist-packages (from huggingface-hub<1.0,>=0.30.0->transformers) (2025.3.2)\n",
            "Requirement already satisfied: charset-normalizer<4,>=2 in /usr/local/lib/python3.11/dist-packages (from requests->transformers) (3.4.2)\n",
            "Requirement already satisfied: idna<4,>=2.5 in /usr/local/lib/python3.11/dist-packages (from requests->transformers) (3.10)\n",
            "Requirement already satisfied: urllib3<3,>=1.21.1 in /usr/local/lib/python3.11/dist-packages (from requests->transformers) (2.4.0)\n",
            "Requirement already satisfied: certifi>=2017.4.17 in /usr/local/lib/python3.11/dist-packages (from requests->transformers) (2025.4.26)\n",
            "Downloading speechrecognition-3.14.3-py3-none-any.whl (32.9 MB)\n",
            "\u001b[2K   \u001b[90m━━━━━━━━━━━━━━━━━━━━━━━━━━━━━━━━━━━━━━━━\u001b[0m \u001b[32m32.9/32.9 MB\u001b[0m \u001b[31m12.3 MB/s\u001b[0m eta \u001b[36m0:00:00\u001b[0m\n",
            "\u001b[?25hDownloading gTTS-2.5.4-py3-none-any.whl (29 kB)\n",
            "Downloading pydub-0.25.1-py2.py3-none-any.whl (32 kB)\n",
            "Downloading click-8.1.8-py3-none-any.whl (98 kB)\n",
            "\u001b[2K   \u001b[90m━━━━━━━━━━━━━━━━━━━━━━━━━━━━━━━━━━━━━━━━\u001b[0m \u001b[32m98.2/98.2 kB\u001b[0m \u001b[31m1.8 MB/s\u001b[0m eta \u001b[36m0:00:00\u001b[0m\n",
            "\u001b[?25hInstalling collected packages: pydub, SpeechRecognition, click, gtts\n",
            "  Attempting uninstall: click\n",
            "    Found existing installation: click 8.2.0\n",
            "    Uninstalling click-8.2.0:\n",
            "      Successfully uninstalled click-8.2.0\n",
            "Successfully installed SpeechRecognition-3.14.3 click-8.1.8 gtts-2.5.4 pydub-0.25.1\n",
            "E: Invalid operation install ffmpeg -y\n"
          ]
        }
      ],
      "source": [
        "!pip install SpeechRecognition transformers gtts pydub\n",
        "!apt-get install ffmpeg -y"
      ]
    },
    {
      "cell_type": "code",
      "source": [
        "from google.colab import files\n",
        "uploaded = files.upload()"
      ],
      "metadata": {
        "colab": {
          "base_uri": "https://localhost:8080/",
          "height": 73
        },
        "id": "PEAnbM7IiEoS",
        "outputId": "47746285-d4d9-46f1-e520-84044d2298b0"
      },
      "execution_count": 59,
      "outputs": [
        {
          "output_type": "display_data",
          "data": {
            "text/plain": [
              "<IPython.core.display.HTML object>"
            ],
            "text/html": [
              "\n",
              "     <input type=\"file\" id=\"files-2d0e3e58-186b-4dd3-a67c-d35a62d8b0d9\" name=\"files[]\" multiple disabled\n",
              "        style=\"border:none\" />\n",
              "     <output id=\"result-2d0e3e58-186b-4dd3-a67c-d35a62d8b0d9\">\n",
              "      Upload widget is only available when the cell has been executed in the\n",
              "      current browser session. Please rerun this cell to enable.\n",
              "      </output>\n",
              "      <script>// Copyright 2017 Google LLC\n",
              "//\n",
              "// Licensed under the Apache License, Version 2.0 (the \"License\");\n",
              "// you may not use this file except in compliance with the License.\n",
              "// You may obtain a copy of the License at\n",
              "//\n",
              "//      http://www.apache.org/licenses/LICENSE-2.0\n",
              "//\n",
              "// Unless required by applicable law or agreed to in writing, software\n",
              "// distributed under the License is distributed on an \"AS IS\" BASIS,\n",
              "// WITHOUT WARRANTIES OR CONDITIONS OF ANY KIND, either express or implied.\n",
              "// See the License for the specific language governing permissions and\n",
              "// limitations under the License.\n",
              "\n",
              "/**\n",
              " * @fileoverview Helpers for google.colab Python module.\n",
              " */\n",
              "(function(scope) {\n",
              "function span(text, styleAttributes = {}) {\n",
              "  const element = document.createElement('span');\n",
              "  element.textContent = text;\n",
              "  for (const key of Object.keys(styleAttributes)) {\n",
              "    element.style[key] = styleAttributes[key];\n",
              "  }\n",
              "  return element;\n",
              "}\n",
              "\n",
              "// Max number of bytes which will be uploaded at a time.\n",
              "const MAX_PAYLOAD_SIZE = 100 * 1024;\n",
              "\n",
              "function _uploadFiles(inputId, outputId) {\n",
              "  const steps = uploadFilesStep(inputId, outputId);\n",
              "  const outputElement = document.getElementById(outputId);\n",
              "  // Cache steps on the outputElement to make it available for the next call\n",
              "  // to uploadFilesContinue from Python.\n",
              "  outputElement.steps = steps;\n",
              "\n",
              "  return _uploadFilesContinue(outputId);\n",
              "}\n",
              "\n",
              "// This is roughly an async generator (not supported in the browser yet),\n",
              "// where there are multiple asynchronous steps and the Python side is going\n",
              "// to poll for completion of each step.\n",
              "// This uses a Promise to block the python side on completion of each step,\n",
              "// then passes the result of the previous step as the input to the next step.\n",
              "function _uploadFilesContinue(outputId) {\n",
              "  const outputElement = document.getElementById(outputId);\n",
              "  const steps = outputElement.steps;\n",
              "\n",
              "  const next = steps.next(outputElement.lastPromiseValue);\n",
              "  return Promise.resolve(next.value.promise).then((value) => {\n",
              "    // Cache the last promise value to make it available to the next\n",
              "    // step of the generator.\n",
              "    outputElement.lastPromiseValue = value;\n",
              "    return next.value.response;\n",
              "  });\n",
              "}\n",
              "\n",
              "/**\n",
              " * Generator function which is called between each async step of the upload\n",
              " * process.\n",
              " * @param {string} inputId Element ID of the input file picker element.\n",
              " * @param {string} outputId Element ID of the output display.\n",
              " * @return {!Iterable<!Object>} Iterable of next steps.\n",
              " */\n",
              "function* uploadFilesStep(inputId, outputId) {\n",
              "  const inputElement = document.getElementById(inputId);\n",
              "  inputElement.disabled = false;\n",
              "\n",
              "  const outputElement = document.getElementById(outputId);\n",
              "  outputElement.innerHTML = '';\n",
              "\n",
              "  const pickedPromise = new Promise((resolve) => {\n",
              "    inputElement.addEventListener('change', (e) => {\n",
              "      resolve(e.target.files);\n",
              "    });\n",
              "  });\n",
              "\n",
              "  const cancel = document.createElement('button');\n",
              "  inputElement.parentElement.appendChild(cancel);\n",
              "  cancel.textContent = 'Cancel upload';\n",
              "  const cancelPromise = new Promise((resolve) => {\n",
              "    cancel.onclick = () => {\n",
              "      resolve(null);\n",
              "    };\n",
              "  });\n",
              "\n",
              "  // Wait for the user to pick the files.\n",
              "  const files = yield {\n",
              "    promise: Promise.race([pickedPromise, cancelPromise]),\n",
              "    response: {\n",
              "      action: 'starting',\n",
              "    }\n",
              "  };\n",
              "\n",
              "  cancel.remove();\n",
              "\n",
              "  // Disable the input element since further picks are not allowed.\n",
              "  inputElement.disabled = true;\n",
              "\n",
              "  if (!files) {\n",
              "    return {\n",
              "      response: {\n",
              "        action: 'complete',\n",
              "      }\n",
              "    };\n",
              "  }\n",
              "\n",
              "  for (const file of files) {\n",
              "    const li = document.createElement('li');\n",
              "    li.append(span(file.name, {fontWeight: 'bold'}));\n",
              "    li.append(span(\n",
              "        `(${file.type || 'n/a'}) - ${file.size} bytes, ` +\n",
              "        `last modified: ${\n",
              "            file.lastModifiedDate ? file.lastModifiedDate.toLocaleDateString() :\n",
              "                                    'n/a'} - `));\n",
              "    const percent = span('0% done');\n",
              "    li.appendChild(percent);\n",
              "\n",
              "    outputElement.appendChild(li);\n",
              "\n",
              "    const fileDataPromise = new Promise((resolve) => {\n",
              "      const reader = new FileReader();\n",
              "      reader.onload = (e) => {\n",
              "        resolve(e.target.result);\n",
              "      };\n",
              "      reader.readAsArrayBuffer(file);\n",
              "    });\n",
              "    // Wait for the data to be ready.\n",
              "    let fileData = yield {\n",
              "      promise: fileDataPromise,\n",
              "      response: {\n",
              "        action: 'continue',\n",
              "      }\n",
              "    };\n",
              "\n",
              "    // Use a chunked sending to avoid message size limits. See b/62115660.\n",
              "    let position = 0;\n",
              "    do {\n",
              "      const length = Math.min(fileData.byteLength - position, MAX_PAYLOAD_SIZE);\n",
              "      const chunk = new Uint8Array(fileData, position, length);\n",
              "      position += length;\n",
              "\n",
              "      const base64 = btoa(String.fromCharCode.apply(null, chunk));\n",
              "      yield {\n",
              "        response: {\n",
              "          action: 'append',\n",
              "          file: file.name,\n",
              "          data: base64,\n",
              "        },\n",
              "      };\n",
              "\n",
              "      let percentDone = fileData.byteLength === 0 ?\n",
              "          100 :\n",
              "          Math.round((position / fileData.byteLength) * 100);\n",
              "      percent.textContent = `${percentDone}% done`;\n",
              "\n",
              "    } while (position < fileData.byteLength);\n",
              "  }\n",
              "\n",
              "  // All done.\n",
              "  yield {\n",
              "    response: {\n",
              "      action: 'complete',\n",
              "    }\n",
              "  };\n",
              "}\n",
              "\n",
              "scope.google = scope.google || {};\n",
              "scope.google.colab = scope.google.colab || {};\n",
              "scope.google.colab._files = {\n",
              "  _uploadFiles,\n",
              "  _uploadFilesContinue,\n",
              "};\n",
              "})(self);\n",
              "</script> "
            ]
          },
          "metadata": {}
        },
        {
          "output_type": "stream",
          "name": "stdout",
          "text": [
            "Saving voice5.mp3.unknown to voice5.mp3 (1).unknown\n"
          ]
        }
      ]
    },
    {
      "cell_type": "code",
      "source": [
        "import speech_recognition as sr\n",
        "from pydub import AudioSegment\n",
        "\n",
        "# Convert uploaded file to WAV\n",
        "audio = AudioSegment.from_file(next(iter(uploaded)))\n",
        "audio.export(\"converted.wav\", format=\"wav\")\n",
        "\n",
        "# Recognize Hindi speech\n",
        "r = sr.Recognizer()\n",
        "with sr.AudioFile(\"converted.wav\") as source:\n",
        "    audio_data = r.record(source)\n",
        "    text = r.recognize_google(audio_data, language='hi-IN')\n",
        "    print(\"Recognized Hindi Speech:\", text)"
      ],
      "metadata": {
        "colab": {
          "base_uri": "https://localhost:8080/"
        },
        "id": "eLHoXHVuicqJ",
        "outputId": "881b36e2-1eab-478c-da2d-42a65f43393a"
      },
      "execution_count": 60,
      "outputs": [
        {
          "output_type": "stream",
          "name": "stdout",
          "text": [
            "Recognized Hindi Speech: आग लग गए हैं जल्दी बाहर निकालो\n"
          ]
        }
      ]
    },
    {
      "cell_type": "code",
      "source": [
        "from transformers import MBartForConditionalGeneration, MBart50TokenizerFast\n",
        "import torch\n",
        "\n",
        "model = MBartForConditionalGeneration.from_pretrained(\"facebook/mbart-large-50-many-to-many-mmt\")\n",
        "tokenizer = MBart50TokenizerFast.from_pretrained(\"facebook/mbart-large-50-many-to-many-mmt\")\n",
        "\n",
        "# Set source and target languages\n",
        "tokenizer.src_lang = \"hi_IN\"\n",
        "encoded = tokenizer(text, return_tensors=\"pt\")\n",
        "generated = model.generate(**encoded, forced_bos_token_id=tokenizer.lang_code_to_id[\"en_XX\"])\n",
        "translated_text = tokenizer.batch_decode(generated, skip_special_tokens=True)[0]\n",
        "print(\"Translated:\", translated_text)"
      ],
      "metadata": {
        "colab": {
          "base_uri": "https://localhost:8080/"
        },
        "id": "-fq0VsZOillh",
        "outputId": "e034e875-18ad-491d-f2ab-ed69ea1cbff6"
      },
      "execution_count": 61,
      "outputs": [
        {
          "output_type": "stream",
          "name": "stdout",
          "text": [
            "Translated: There 's a fire. Get out quickly.\n"
          ]
        }
      ]
    },
    {
      "cell_type": "code",
      "source": [
        "import os\n",
        "\n",
        "def generate_realistic_speech(text):\n",
        "    url = f\"https://api.elevenlabs.io/v1/text-to-speech/{VOICE_ID}\"\n",
        "    headers = {\n",
        "        \"xi-api-key\": API_KEY,\n",
        "        \"Content-Type\": \"application/json\"\n",
        "    }\n",
        "    payload = {\n",
        "        \"text\": text,\n",
        "        \"voice_settings\": {\n",
        "            \"stability\": 0.5,\n",
        "            \"similarity_boost\": 0.75\n",
        "        }\n",
        "    }\n",
        "    response = requests.post(url, headers=headers, json=payload)\n",
        "\n",
        "    if response.status_code == 200:\n",
        "        with open(\"output.mp3\", \"wb\") as f:\n",
        "            f.write(response.content)\n",
        "        print(\"Speech generated and saved as output.mp3\")\n",
        "    else:\n",
        "        print(\"Failed to generate speech:\", response.text)\n",
        "\n",
        "generate_realistic_speech(translated_text)"
      ],
      "metadata": {
        "colab": {
          "base_uri": "https://localhost:8080/"
        },
        "id": "-maKLoz1i6bM",
        "outputId": "103e7f67-c775-408d-c9b0-11bdb245dddc"
      },
      "execution_count": 62,
      "outputs": [
        {
          "output_type": "stream",
          "name": "stdout",
          "text": [
            "Speech generated and saved as output.mp3\n"
          ]
        }
      ]
    },
    {
      "cell_type": "code",
      "source": [
        "from IPython.display import Audio\n",
        "Audio(\"output.mp3\")"
      ],
      "metadata": {
        "colab": {
          "base_uri": "https://localhost:8080/",
          "height": 76
        },
        "id": "qgU3pU5NtIb8",
        "outputId": "7aa01b67-7ef1-40c5-c61d-739dfad8f7cf"
      },
      "execution_count": 63,
      "outputs": [
        {
          "output_type": "execute_result",
          "data": {
            "text/plain": [
              "<IPython.lib.display.Audio object>"
            ],
            "text/html": [
              "\n",
              "                <audio  controls=\"controls\" >\n",
              "                    <source src=\"data:audio/mpeg;base64,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\" type=\"audio/mpeg\" />\n",
              "                    Your browser does not support the audio element.\n",
              "                </audio>\n",
              "              "
            ]
          },
          "metadata": {},
          "execution_count": 63
        }
      ]
    }
  ]
}